{
 "cells": [
  {
   "cell_type": "markdown",
   "metadata": {},
   "source": [
    "# Capstone Project - The Battle of Neighborhoods (Week 2)"
   ]
  },
  {
   "cell_type": "markdown",
   "metadata": {},
   "source": []
  },
  {
   "cell_type": "code",
   "execution_count": 49,
   "metadata": {},
   "outputs": [],
   "source": [
    "#Importing and intalling all the necessary libraries"
   ]
  },
  {
   "cell_type": "code",
   "execution_count": 47,
   "metadata": {},
   "outputs": [
    {
     "name": "stdout",
     "output_type": "stream",
     "text": [
      "Requirement already satisfied: geocoder in /opt/conda/envs/Python36/lib/python3.6/site-packages (1.38.1)\n",
      "Requirement already satisfied: six in /opt/conda/envs/Python36/lib/python3.6/site-packages (from geocoder) (1.12.0)\n",
      "Requirement already satisfied: ratelim in /opt/conda/envs/Python36/lib/python3.6/site-packages (from geocoder) (0.1.6)\n",
      "Requirement already satisfied: click in /opt/conda/envs/Python36/lib/python3.6/site-packages (from geocoder) (7.0)\n",
      "Requirement already satisfied: future in /opt/conda/envs/Python36/lib/python3.6/site-packages (from geocoder) (0.17.1)\n",
      "Requirement already satisfied: requests in /opt/conda/envs/Python36/lib/python3.6/site-packages (from geocoder) (2.21.0)\n",
      "Requirement already satisfied: decorator in /opt/conda/envs/Python36/lib/python3.6/site-packages (from ratelim->geocoder) (4.3.2)\n",
      "Requirement already satisfied: idna<2.9,>=2.5 in /opt/conda/envs/Python36/lib/python3.6/site-packages (from requests->geocoder) (2.8)\n",
      "Requirement already satisfied: chardet<3.1.0,>=3.0.2 in /opt/conda/envs/Python36/lib/python3.6/site-packages (from requests->geocoder) (3.0.4)\n",
      "Requirement already satisfied: certifi>=2017.4.17 in /opt/conda/envs/Python36/lib/python3.6/site-packages (from requests->geocoder) (2019.11.28)\n",
      "Requirement already satisfied: urllib3<1.25,>=1.21.1 in /opt/conda/envs/Python36/lib/python3.6/site-packages (from requests->geocoder) (1.24.1)\n"
     ]
    }
   ],
   "source": [
    "!pip install geocoder"
   ]
  },
  {
   "cell_type": "code",
   "execution_count": 48,
   "metadata": {},
   "outputs": [
    {
     "name": "stdout",
     "output_type": "stream",
     "text": [
      "Requirement already satisfied: folium in /opt/conda/envs/Python36/lib/python3.6/site-packages (0.10.1)\n",
      "Requirement already satisfied: branca>=0.3.0 in /opt/conda/envs/Python36/lib/python3.6/site-packages (from folium) (0.4.0)\n",
      "Requirement already satisfied: numpy in /opt/conda/envs/Python36/lib/python3.6/site-packages (from folium) (1.15.4)\n",
      "Requirement already satisfied: jinja2>=2.9 in /opt/conda/envs/Python36/lib/python3.6/site-packages (from folium) (2.10)\n",
      "Requirement already satisfied: requests in /opt/conda/envs/Python36/lib/python3.6/site-packages (from folium) (2.21.0)\n",
      "Requirement already satisfied: six in /opt/conda/envs/Python36/lib/python3.6/site-packages (from branca>=0.3.0->folium) (1.12.0)\n",
      "Requirement already satisfied: MarkupSafe>=0.23 in /opt/conda/envs/Python36/lib/python3.6/site-packages (from jinja2>=2.9->folium) (1.1.0)\n",
      "Requirement already satisfied: urllib3<1.25,>=1.21.1 in /opt/conda/envs/Python36/lib/python3.6/site-packages (from requests->folium) (1.24.1)\n",
      "Requirement already satisfied: chardet<3.1.0,>=3.0.2 in /opt/conda/envs/Python36/lib/python3.6/site-packages (from requests->folium) (3.0.4)\n",
      "Requirement already satisfied: certifi>=2017.4.17 in /opt/conda/envs/Python36/lib/python3.6/site-packages (from requests->folium) (2019.11.28)\n",
      "Requirement already satisfied: idna<2.9,>=2.5 in /opt/conda/envs/Python36/lib/python3.6/site-packages (from requests->folium) (2.8)\n"
     ]
    }
   ],
   "source": [
    "!pip install folium"
   ]
  },
  {
   "cell_type": "code",
   "execution_count": 3,
   "metadata": {},
   "outputs": [],
   "source": [
    "import pandas as pd\n",
    "import numpy as np\n",
    "pd.set_option('display.max_columns', None)\n",
    "pd.set_option('display.max_rows', None)\n",
    "import requests\n",
    "from bs4 import BeautifulSoup\n",
    "import geocoder\n",
    "import os\n",
    "import folium # map rendering library\n",
    "from geopy.geocoders import Nominatim # convert an address into latitude and longitude values\n",
    "# Matplotlib and associated plotting modules\n",
    "import matplotlib.pyplot as plt\n",
    "import matplotlib.cm as cm\n",
    "import matplotlib.colors as colors\n",
    "%matplotlib inline"
   ]
  },
  {
   "cell_type": "markdown",
   "metadata": {},
   "source": [
    "Let's define a function for geocodes"
   ]
  },
  {
   "cell_type": "code",
   "execution_count": 4,
   "metadata": {},
   "outputs": [],
   "source": [
    "def geo_location(address):\n",
    "    # get geo location of address\n",
    "    geolocator = Nominatim(user_agent=\"ny_explorer\")\n",
    "    location = geolocator.geocode(address)\n",
    "    latitude = location.latitude\n",
    "    longitude = location.longitude\n",
    "    return latitude,longitude"
   ]
  },
  {
   "cell_type": "markdown",
   "metadata": {},
   "source": [
    "Next we need a function to intract with FourSquare API and get top 100 venues within a defined radius. Below function will return us the venue id , venue name and category"
   ]
  },
  {
   "cell_type": "code",
   "execution_count": 5,
   "metadata": {},
   "outputs": [],
   "source": [
    "def get_venues(lat,lng):\n",
    "    \n",
    "    #set variables\n",
    "    radius=1000\n",
    "    LIMIT=100\n",
    "    CLIENT_ID = 'IGOAILKTSGZKIH11WZCYKGYEHZB5JS3UYBZZV2OACXJIENJQ' # your Foursquare ID\n",
    "    CLIENT_SECRET = 'DUDIJEG0YH4WMDS0OFGFRHUO5M1PN12ZGBQFF3YGKEUA2KMT' # your Foursquare Secret\n",
    "    VERSION = '20200309' # Foursquare API version\n",
    "    \n",
    "    #url to fetch data from foursquare api\n",
    "    url = 'https://api.foursquare.com/v2/venues/explore?&client_id={}&client_secret={}&v={}&ll={},{}&radius={}&limit={}'.format(\n",
    "            CLIENT_ID, \n",
    "            CLIENT_SECRET, \n",
    "            VERSION, \n",
    "            lat, \n",
    "            lng, \n",
    "            radius, \n",
    "            LIMIT)\n",
    "    \n",
    "    # get all the data\n",
    "    results = requests.get(url).json()\n",
    "    venue_data=results[\"response\"]['groups'][0]['items']\n",
    "    venue_details=[]\n",
    "    for row in venue_data:\n",
    "        try:\n",
    "            venue_id=row['venue']['id']\n",
    "            venue_name=row['venue']['name']\n",
    "            venue_category=row['venue']['categories'][0]['name']\n",
    "            venue_details.append([venue_id,venue_name,venue_category])\n",
    "        except KeyError:\n",
    "            pass\n",
    "        \n",
    "    column_names=['ID','Name','Category']\n",
    "    df = pd.DataFrame(venue_details,columns=column_names)\n",
    "    return df"
   ]
  },
  {
   "cell_type": "markdown",
   "metadata": {},
   "source": [
    "Using Foursquare credentials, we can get the venue details"
   ]
  },
  {
   "cell_type": "code",
   "execution_count": 6,
   "metadata": {},
   "outputs": [],
   "source": [
    "def get_venue_details(venue_id):\n",
    "        \n",
    "    CLIENT_ID = 'IGOAILKTSGZKIH11WZCYKGYEHZB5JS3UYBZZV2OACXJIENJQ' # your Foursquare ID\n",
    "    CLIENT_SECRET = 'DUDIJEG0YH4WMDS0OFGFRHUO5M1PN12ZGBQFF3YGKEUA2KMT' # your Foursquare Secret\n",
    "    VERSION = '20200309' # Foursquare API version\n",
    "    \n",
    "    #url to fetch data from foursquare api\n",
    "    url = 'https://api.foursquare.com/v2/venues/{}?&client_id={}&client_secret={}&v={}'.format(\n",
    "            venue_id,\n",
    "            CLIENT_ID, \n",
    "            CLIENT_SECRET, \n",
    "            VERSION)\n",
    "    \n",
    "    # get all the data\n",
    "    results = requests.get(url).json()\n",
    "    venue_data=results['response']['venue']\n",
    "    venue_details=[]\n",
    "    try:\n",
    "        venue_id=venue_data['id']\n",
    "        venue_name=venue_data['name']\n",
    "        venue_likes=venue_data['likes']['count']\n",
    "        venue_rating=venue_data['rating']\n",
    "        venue_tips=venue_data['tips']['count']\n",
    "        venue_details.append([venue_id,venue_name,venue_likes,venue_rating,venue_tips])\n",
    "    except KeyError:\n",
    "        pass\n",
    "        \n",
    "    column_names=['ID','Name','Likes','Rating','Tips']\n",
    "    df = pd.DataFrame(venue_details,columns=column_names)\n",
    "    return df"
   ]
  },
  {
   "cell_type": "markdown",
   "metadata": {},
   "source": [
    "Next step is to get NY data"
   ]
  },
  {
   "cell_type": "code",
   "execution_count": 7,
   "metadata": {},
   "outputs": [],
   "source": [
    "def get_new_york_data():\n",
    "    url='https://cocl.us/new_york_dataset'\n",
    "    resp=requests.get(url).json()\n",
    "    # all data is present in features label\n",
    "    features=resp['features']\n",
    "    \n",
    "    # define the dataframe columns\n",
    "    column_names = ['Borough', 'Neighborhood', 'Latitude', 'Longitude'] \n",
    "    # instantiate the dataframe\n",
    "    new_york_data = pd.DataFrame(columns=column_names)\n",
    "    \n",
    "    for data in features:\n",
    "        borough = data['properties']['borough'] \n",
    "        neighborhood_name = data['properties']['name']\n",
    "        \n",
    "        neighborhood_latlon = data['geometry']['coordinates']\n",
    "        neighborhood_lat = neighborhood_latlon[1]\n",
    "        neighborhood_lon = neighborhood_latlon[0]\n",
    "    \n",
    "        new_york_data = new_york_data.append({'Borough': borough,\n",
    "                                          'Neighborhood': neighborhood_name,\n",
    "                                          'Latitude': neighborhood_lat,\n",
    "                                          'Longitude': neighborhood_lon}, ignore_index=True)\n",
    "    \n",
    "    return new_york_data"
   ]
  },
  {
   "cell_type": "code",
   "execution_count": 8,
   "metadata": {},
   "outputs": [],
   "source": [
    "new_york_data=get_new_york_data()"
   ]
  },
  {
   "cell_type": "code",
   "execution_count": 9,
   "metadata": {},
   "outputs": [
    {
     "data": {
      "text/html": [
       "<div>\n",
       "<style scoped>\n",
       "    .dataframe tbody tr th:only-of-type {\n",
       "        vertical-align: middle;\n",
       "    }\n",
       "\n",
       "    .dataframe tbody tr th {\n",
       "        vertical-align: top;\n",
       "    }\n",
       "\n",
       "    .dataframe thead th {\n",
       "        text-align: right;\n",
       "    }\n",
       "</style>\n",
       "<table border=\"1\" class=\"dataframe\">\n",
       "  <thead>\n",
       "    <tr style=\"text-align: right;\">\n",
       "      <th></th>\n",
       "      <th>Borough</th>\n",
       "      <th>Neighborhood</th>\n",
       "      <th>Latitude</th>\n",
       "      <th>Longitude</th>\n",
       "    </tr>\n",
       "  </thead>\n",
       "  <tbody>\n",
       "    <tr>\n",
       "      <th>0</th>\n",
       "      <td>Bronx</td>\n",
       "      <td>Wakefield</td>\n",
       "      <td>40.894705</td>\n",
       "      <td>-73.847201</td>\n",
       "    </tr>\n",
       "    <tr>\n",
       "      <th>1</th>\n",
       "      <td>Bronx</td>\n",
       "      <td>Co-op City</td>\n",
       "      <td>40.874294</td>\n",
       "      <td>-73.829939</td>\n",
       "    </tr>\n",
       "    <tr>\n",
       "      <th>2</th>\n",
       "      <td>Bronx</td>\n",
       "      <td>Eastchester</td>\n",
       "      <td>40.887556</td>\n",
       "      <td>-73.827806</td>\n",
       "    </tr>\n",
       "    <tr>\n",
       "      <th>3</th>\n",
       "      <td>Bronx</td>\n",
       "      <td>Fieldston</td>\n",
       "      <td>40.895437</td>\n",
       "      <td>-73.905643</td>\n",
       "    </tr>\n",
       "    <tr>\n",
       "      <th>4</th>\n",
       "      <td>Bronx</td>\n",
       "      <td>Riverdale</td>\n",
       "      <td>40.890834</td>\n",
       "      <td>-73.912585</td>\n",
       "    </tr>\n",
       "  </tbody>\n",
       "</table>\n",
       "</div>"
      ],
      "text/plain": [
       "  Borough Neighborhood   Latitude  Longitude\n",
       "0   Bronx    Wakefield  40.894705 -73.847201\n",
       "1   Bronx   Co-op City  40.874294 -73.829939\n",
       "2   Bronx  Eastchester  40.887556 -73.827806\n",
       "3   Bronx    Fieldston  40.895437 -73.905643\n",
       "4   Bronx    Riverdale  40.890834 -73.912585"
      ]
     },
     "execution_count": 9,
     "metadata": {},
     "output_type": "execute_result"
    }
   ],
   "source": [
    "new_york_data.head()"
   ]
  },
  {
   "cell_type": "code",
   "execution_count": 10,
   "metadata": {},
   "outputs": [
    {
     "data": {
      "text/plain": [
       "(306, 4)"
      ]
     },
     "execution_count": 10,
     "metadata": {},
     "output_type": "execute_result"
    }
   ],
   "source": [
    "new_york_data.shape"
   ]
  },
  {
   "cell_type": "code",
   "execution_count": 11,
   "metadata": {},
   "outputs": [
    {
     "data": {
      "image/png": "[encoded data removed]",
      "text/plain": [
       "<Figure size 900x500 with 1 Axes>"
      ]
     },
     "metadata": {
      "needs_background": "light"
     },
     "output_type": "display_data"
    }
   ],
   "source": [
    "plt.figure(figsize=(9,5), dpi = 100)\n",
    "# title\n",
    "plt.title('Neighborhood Number for each Borough in NY City')\n",
    "#On x-axis\n",
    "plt.xlabel('Borough', fontsize = 15)\n",
    "#On y-axis\n",
    "plt.ylabel('No.of Neighborhood', fontsize=15)\n",
    "#giving a bar plot\n",
    "new_york_data.groupby('Borough')['Neighborhood'].count().plot(kind='bar')\n",
    "#legend\n",
    "plt.legend()\n",
    "#displays the plot\n",
    "plt.show()\n",
    "\n"
   ]
  },
  {
   "cell_type": "markdown",
   "metadata": {},
   "source": [
    "## Getting Russian restaurants for each neighborhood"
   ]
  },
  {
   "cell_type": "code",
   "execution_count": 13,
   "metadata": {},
   "outputs": [
    {
     "name": "stdout",
     "output_type": "stream",
     "text": [
      "( 1 / 306 ) Russian Restaurants in Wakefield, Bronx:0\n",
      "( 2 / 306 ) Russian Restaurants in Co-op City, Bronx:0\n",
      "( 3 / 306 ) Russian Restaurants in Eastchester, Bronx:0\n",
      "( 4 / 306 ) Russian Restaurants in Fieldston, Bronx:0\n",
      "( 5 / 306 ) Russian Restaurants in Riverdale, Bronx:0\n",
      "( 6 / 306 ) Russian Restaurants in Kingsbridge, Bronx:0\n",
      "( 7 / 306 ) Russian Restaurants in Marble Hill, Manhattan:0\n",
      "( 8 / 306 ) Russian Restaurants in Woodlawn, Bronx:0\n",
      "( 9 / 306 ) Russian Restaurants in Norwood, Bronx:0\n",
      "( 10 / 306 ) Russian Restaurants in Williamsbridge, Bronx:0\n",
      "( 11 / 306 ) Russian Restaurants in Baychester, Bronx:0\n",
      "( 12 / 306 ) Russian Restaurants in Pelham Parkway, Bronx:0\n",
      "( 13 / 306 ) Russian Restaurants in City Island, Bronx:0\n",
      "( 14 / 306 ) Russian Restaurants in Bedford Park, Bronx:0\n",
      "( 15 / 306 ) Russian Restaurants in University Heights, Bronx:0\n",
      "( 16 / 306 ) Russian Restaurants in Morris Heights, Bronx:0\n",
      "( 17 / 306 ) Russian Restaurants in Fordham, Bronx:0\n",
      "( 18 / 306 ) Russian Restaurants in East Tremont, Bronx:0\n",
      "( 19 / 306 ) Russian Restaurants in West Farms, Bronx:0\n",
      "( 20 / 306 ) Russian Restaurants in High  Bridge, Bronx:0\n",
      "( 21 / 306 ) Russian Restaurants in Melrose, Bronx:0\n",
      "( 22 / 306 ) Russian Restaurants in Mott Haven, Bronx:0\n",
      "( 23 / 306 ) Russian Restaurants in Port Morris, Bronx:0\n",
      "( 24 / 306 ) Russian Restaurants in Longwood, Bronx:0\n",
      "( 25 / 306 ) Russian Restaurants in Hunts Point, Bronx:0\n",
      "( 26 / 306 ) Russian Restaurants in Morrisania, Bronx:0\n",
      "( 27 / 306 ) Russian Restaurants in Soundview, Bronx:0\n",
      "( 28 / 306 ) Russian Restaurants in Clason Point, Bronx:0\n",
      "( 29 / 306 ) Russian Restaurants in Throgs Neck, Bronx:0\n",
      "( 30 / 306 ) Russian Restaurants in Country Club, Bronx:0\n",
      "( 31 / 306 ) Russian Restaurants in Parkchester, Bronx:0\n",
      "( 32 / 306 ) Russian Restaurants in Westchester Square, Bronx:0\n",
      "( 33 / 306 ) Russian Restaurants in Van Nest, Bronx:0\n",
      "( 34 / 306 ) Russian Restaurants in Morris Park, Bronx:0\n",
      "( 35 / 306 ) Russian Restaurants in Belmont, Bronx:0\n",
      "( 36 / 306 ) Russian Restaurants in Spuyten Duyvil, Bronx:0\n",
      "( 37 / 306 ) Russian Restaurants in North Riverdale, Bronx:0\n",
      "( 38 / 306 ) Russian Restaurants in Pelham Bay, Bronx:0\n",
      "( 39 / 306 ) Russian Restaurants in Schuylerville, Bronx:0\n",
      "( 40 / 306 ) Russian Restaurants in Edgewater Park, Bronx:0\n",
      "( 41 / 306 ) Russian Restaurants in Castle Hill, Bronx:0\n",
      "( 42 / 306 ) Russian Restaurants in Olinville, Bronx:0\n",
      "( 43 / 306 ) Russian Restaurants in Pelham Gardens, Bronx:0\n",
      "( 44 / 306 ) Russian Restaurants in Concourse, Bronx:0\n",
      "( 45 / 306 ) Russian Restaurants in Unionport, Bronx:0\n",
      "( 46 / 306 ) Russian Restaurants in Edenwald, Bronx:0\n",
      "( 47 / 306 ) Russian Restaurants in Bay Ridge, Brooklyn:0\n",
      "( 48 / 306 ) Russian Restaurants in Bensonhurst, Brooklyn:0\n",
      "( 49 / 306 ) Russian Restaurants in Sunset Park, Brooklyn:0\n",
      "( 50 / 306 ) Russian Restaurants in Greenpoint, Brooklyn:0\n",
      "( 51 / 306 ) Russian Restaurants in Gravesend, Brooklyn:0\n",
      "( 52 / 306 ) Russian Restaurants in Brighton Beach, Brooklyn:0\n",
      "( 53 / 306 ) Russian Restaurants in Sheepshead Bay, Brooklyn:0\n",
      "( 54 / 306 ) Russian Restaurants in Manhattan Terrace, Brooklyn:0\n",
      "( 55 / 306 ) Russian Restaurants in Flatbush, Brooklyn:0\n",
      "( 56 / 306 ) Russian Restaurants in Crown Heights, Brooklyn:0\n",
      "( 57 / 306 ) Russian Restaurants in East Flatbush, Brooklyn:0\n",
      "( 58 / 306 ) Russian Restaurants in Kensington, Brooklyn:0\n",
      "( 59 / 306 ) Russian Restaurants in Windsor Terrace, Brooklyn:0\n",
      "( 60 / 306 ) Russian Restaurants in Prospect Heights, Brooklyn:0\n",
      "( 61 / 306 ) Russian Restaurants in Brownsville, Brooklyn:0\n",
      "( 62 / 306 ) Russian Restaurants in Williamsburg, Brooklyn:0\n",
      "( 63 / 306 ) Russian Restaurants in Bushwick, Brooklyn:0\n",
      "( 64 / 306 ) Russian Restaurants in Bedford Stuyvesant, Brooklyn:0\n",
      "( 65 / 306 ) Russian Restaurants in Brooklyn Heights, Brooklyn:0\n",
      "( 66 / 306 ) Russian Restaurants in Cobble Hill, Brooklyn:0\n",
      "( 67 / 306 ) Russian Restaurants in Carroll Gardens, Brooklyn:0\n",
      "( 68 / 306 ) Russian Restaurants in Red Hook, Brooklyn:0\n",
      "( 69 / 306 ) Russian Restaurants in Gowanus, Brooklyn:0\n",
      "( 70 / 306 ) Russian Restaurants in Fort Greene, Brooklyn:0\n",
      "( 71 / 306 ) Russian Restaurants in Park Slope, Brooklyn:0\n",
      "( 72 / 306 ) Russian Restaurants in Cypress Hills, Brooklyn:0\n",
      "( 73 / 306 ) Russian Restaurants in East New York, Brooklyn:0\n",
      "( 74 / 306 ) Russian Restaurants in Starrett City, Brooklyn:0\n",
      "( 75 / 306 ) Russian Restaurants in Canarsie, Brooklyn:0\n",
      "( 76 / 306 ) Russian Restaurants in Flatlands, Brooklyn:0\n",
      "( 77 / 306 ) Russian Restaurants in Mill Island, Brooklyn:0\n",
      "( 78 / 306 ) Russian Restaurants in Manhattan Beach, Brooklyn:0\n",
      "( 79 / 306 ) Russian Restaurants in Coney Island, Brooklyn:0\n",
      "( 80 / 306 ) Russian Restaurants in Bath Beach, Brooklyn:0\n",
      "( 81 / 306 ) Russian Restaurants in Borough Park, Brooklyn:0\n",
      "( 82 / 306 ) Russian Restaurants in Dyker Heights, Brooklyn:0\n",
      "( 83 / 306 ) Russian Restaurants in Gerritsen Beach, Brooklyn:0\n",
      "( 84 / 306 ) Russian Restaurants in Marine Park, Brooklyn:0\n",
      "( 85 / 306 ) Russian Restaurants in Clinton Hill, Brooklyn:0\n",
      "( 86 / 306 ) Russian Restaurants in Sea Gate, Brooklyn:0\n",
      "( 87 / 306 ) Russian Restaurants in Downtown, Brooklyn:0\n",
      "( 88 / 306 ) Russian Restaurants in Boerum Hill, Brooklyn:0\n",
      "( 89 / 306 ) Russian Restaurants in Prospect Lefferts Gardens, Brooklyn:0\n",
      "( 90 / 306 ) Russian Restaurants in Ocean Hill, Brooklyn:0\n",
      "( 91 / 306 ) Russian Restaurants in City Line, Brooklyn:0\n",
      "( 92 / 306 ) Russian Restaurants in Bergen Beach, Brooklyn:0\n",
      "( 93 / 306 ) Russian Restaurants in Midwood, Brooklyn:0\n",
      "( 94 / 306 ) Russian Restaurants in Prospect Park South, Brooklyn:0\n",
      "( 95 / 306 ) Russian Restaurants in Georgetown, Brooklyn:0\n",
      "( 96 / 306 ) Russian Restaurants in East Williamsburg, Brooklyn:0\n",
      "( 97 / 306 ) Russian Restaurants in North Side, Brooklyn:0\n",
      "( 98 / 306 ) Russian Restaurants in South Side, Brooklyn:0\n",
      "( 99 / 306 ) Russian Restaurants in Ocean Parkway, Brooklyn:0\n",
      "( 100 / 306 ) Russian Restaurants in Fort Hamilton, Brooklyn:0\n",
      "( 101 / 306 ) Russian Restaurants in Chinatown, Manhattan:0\n",
      "( 102 / 306 ) Russian Restaurants in Washington Heights, Manhattan:0\n",
      "( 103 / 306 ) Russian Restaurants in Inwood, Manhattan:0\n",
      "( 104 / 306 ) Russian Restaurants in Hamilton Heights, Manhattan:0\n",
      "( 105 / 306 ) Russian Restaurants in Manhattanville, Manhattan:0\n",
      "( 106 / 306 ) Russian Restaurants in Central Harlem, Manhattan:0\n",
      "( 107 / 306 ) Russian Restaurants in East Harlem, Manhattan:0\n",
      "( 108 / 306 ) Russian Restaurants in Upper East Side, Manhattan:0\n",
      "( 109 / 306 ) Russian Restaurants in Yorkville, Manhattan:0\n",
      "( 110 / 306 ) Russian Restaurants in Lenox Hill, Manhattan:0\n",
      "( 111 / 306 ) Russian Restaurants in Roosevelt Island, Manhattan:0\n",
      "( 112 / 306 ) Russian Restaurants in Upper West Side, Manhattan:0\n",
      "( 113 / 306 ) Russian Restaurants in Lincoln Square, Manhattan:0\n",
      "( 114 / 306 ) Russian Restaurants in Clinton, Manhattan:0\n",
      "( 115 / 306 ) Russian Restaurants in Midtown, Manhattan:0\n",
      "( 116 / 306 ) Russian Restaurants in Murray Hill, Manhattan:0\n",
      "( 117 / 306 ) Russian Restaurants in Chelsea, Manhattan:0\n",
      "( 118 / 306 ) Russian Restaurants in Greenwich Village, Manhattan:0\n",
      "( 119 / 306 ) Russian Restaurants in East Village, Manhattan:0\n",
      "( 120 / 306 ) Russian Restaurants in Lower East Side, Manhattan:0\n",
      "( 121 / 306 ) Russian Restaurants in Tribeca, Manhattan:0\n",
      "( 122 / 306 ) Russian Restaurants in Little Italy, Manhattan:0\n",
      "( 123 / 306 ) Russian Restaurants in Soho, Manhattan:0\n",
      "( 124 / 306 ) Russian Restaurants in West Village, Manhattan:0\n",
      "( 125 / 306 ) Russian Restaurants in Manhattan Valley, Manhattan:0\n",
      "( 126 / 306 ) Russian Restaurants in Morningside Heights, Manhattan:0\n",
      "( 127 / 306 ) Russian Restaurants in Gramercy, Manhattan:0\n",
      "( 128 / 306 ) Russian Restaurants in Battery Park City, Manhattan:0\n",
      "( 129 / 306 ) Russian Restaurants in Financial District, Manhattan:0\n",
      "( 130 / 306 ) Russian Restaurants in Astoria, Queens:0\n",
      "( 131 / 306 ) Russian Restaurants in Woodside, Queens:0\n",
      "( 132 / 306 ) Russian Restaurants in Jackson Heights, Queens:0\n",
      "( 133 / 306 ) Russian Restaurants in Elmhurst, Queens:0\n",
      "( 134 / 306 ) Russian Restaurants in Howard Beach, Queens:0\n",
      "( 135 / 306 ) Russian Restaurants in Corona, Queens:0\n",
      "( 136 / 306 ) Russian Restaurants in Forest Hills, Queens:0\n",
      "( 137 / 306 ) Russian Restaurants in Kew Gardens, Queens:0\n",
      "( 138 / 306 ) Russian Restaurants in Richmond Hill, Queens:0\n",
      "( 139 / 306 ) Russian Restaurants in Flushing, Queens:0\n",
      "( 140 / 306 ) Russian Restaurants in Long Island City, Queens:0\n",
      "( 141 / 306 ) Russian Restaurants in Sunnyside, Queens:0\n",
      "( 142 / 306 ) Russian Restaurants in East Elmhurst, Queens:0\n",
      "( 143 / 306 ) Russian Restaurants in Maspeth, Queens:0\n",
      "( 144 / 306 ) Russian Restaurants in Ridgewood, Queens:0\n",
      "( 145 / 306 ) Russian Restaurants in Glendale, Queens:0\n",
      "( 146 / 306 ) Russian Restaurants in Rego Park, Queens:0\n",
      "( 147 / 306 ) Russian Restaurants in Woodhaven, Queens:0\n",
      "( 148 / 306 ) Russian Restaurants in Ozone Park, Queens:0\n",
      "( 149 / 306 ) Russian Restaurants in South Ozone Park, Queens:0\n",
      "( 150 / 306 ) Russian Restaurants in College Point, Queens:0\n",
      "( 151 / 306 ) Russian Restaurants in Whitestone, Queens:0\n",
      "( 152 / 306 ) Russian Restaurants in Bayside, Queens:0\n",
      "( 153 / 306 ) Russian Restaurants in Auburndale, Queens:0\n",
      "( 154 / 306 ) Russian Restaurants in Little Neck, Queens:0\n",
      "( 155 / 306 ) Russian Restaurants in Douglaston, Queens:0\n",
      "( 156 / 306 ) Russian Restaurants in Glen Oaks, Queens:0\n",
      "( 157 / 306 ) Russian Restaurants in Bellerose, Queens:0\n",
      "( 158 / 306 ) Russian Restaurants in Kew Gardens Hills, Queens:0\n",
      "( 159 / 306 ) Russian Restaurants in Fresh Meadows, Queens:0\n",
      "( 160 / 306 ) Russian Restaurants in Briarwood, Queens:0\n",
      "( 161 / 306 ) Russian Restaurants in Jamaica Center, Queens:0\n",
      "( 162 / 306 ) Russian Restaurants in Oakland Gardens, Queens:0\n",
      "( 163 / 306 ) Russian Restaurants in Queens Village, Queens:0\n",
      "( 164 / 306 ) Russian Restaurants in Hollis, Queens:0\n",
      "( 165 / 306 ) Russian Restaurants in South Jamaica, Queens:0\n",
      "( 166 / 306 ) Russian Restaurants in St. Albans, Queens:0\n",
      "( 167 / 306 ) Russian Restaurants in Rochdale, Queens:0\n",
      "( 168 / 306 ) Russian Restaurants in Springfield Gardens, Queens:0\n",
      "( 169 / 306 ) Russian Restaurants in Cambria Heights, Queens:0\n",
      "( 170 / 306 ) Russian Restaurants in Rosedale, Queens:0\n",
      "( 171 / 306 ) Russian Restaurants in Far Rockaway, Queens:0\n",
      "( 172 / 306 ) Russian Restaurants in Broad Channel, Queens:0\n",
      "( 173 / 306 ) Russian Restaurants in Breezy Point, Queens:0\n",
      "( 174 / 306 ) Russian Restaurants in Steinway, Queens:0\n",
      "( 175 / 306 ) Russian Restaurants in Beechhurst, Queens:0\n",
      "( 176 / 306 ) Russian Restaurants in Bay Terrace, Queens:0\n",
      "( 177 / 306 ) Russian Restaurants in Edgemere, Queens:0\n",
      "( 178 / 306 ) Russian Restaurants in Arverne, Queens:0\n",
      "( 179 / 306 ) Russian Restaurants in Rockaway Beach, Queens:0\n",
      "( 180 / 306 ) Russian Restaurants in Neponsit, Queens:0\n",
      "( 181 / 306 ) Russian Restaurants in Murray Hill, Queens:0\n",
      "( 182 / 306 ) Russian Restaurants in Floral Park, Queens:0\n",
      "( 183 / 306 ) Russian Restaurants in Holliswood, Queens:0\n",
      "( 184 / 306 ) Russian Restaurants in Jamaica Estates, Queens:0\n",
      "( 185 / 306 ) Russian Restaurants in Queensboro Hill, Queens:0\n",
      "( 186 / 306 ) Russian Restaurants in Hillcrest, Queens:0\n",
      "( 187 / 306 ) Russian Restaurants in Ravenswood, Queens:0\n",
      "( 188 / 306 ) Russian Restaurants in Lindenwood, Queens:0\n",
      "( 189 / 306 ) Russian Restaurants in Laurelton, Queens:0\n",
      "( 190 / 306 ) Russian Restaurants in Lefrak City, Queens:0\n",
      "( 191 / 306 ) Russian Restaurants in Belle Harbor, Queens:0\n",
      "( 192 / 306 ) Russian Restaurants in Rockaway Park, Queens:0\n",
      "( 193 / 306 ) Russian Restaurants in Somerville, Queens:0\n",
      "( 194 / 306 ) Russian Restaurants in Brookville, Queens:0\n",
      "( 195 / 306 ) Russian Restaurants in Bellaire, Queens:0\n",
      "( 196 / 306 ) Russian Restaurants in North Corona, Queens:0\n",
      "( 197 / 306 ) Russian Restaurants in Forest Hills Gardens, Queens:0\n",
      "( 198 / 306 ) Russian Restaurants in St. George, Staten Island:0\n",
      "( 199 / 306 ) Russian Restaurants in New Brighton, Staten Island:0\n",
      "( 200 / 306 ) Russian Restaurants in Stapleton, Staten Island:0\n",
      "( 201 / 306 ) Russian Restaurants in Rosebank, Staten Island:0\n",
      "( 202 / 306 ) Russian Restaurants in West Brighton, Staten Island:0\n",
      "( 203 / 306 ) Russian Restaurants in Grymes Hill, Staten Island:0\n",
      "( 204 / 306 ) Russian Restaurants in Todt Hill, Staten Island:0\n",
      "( 205 / 306 ) Russian Restaurants in South Beach, Staten Island:0\n",
      "( 206 / 306 ) Russian Restaurants in Port Richmond, Staten Island:0\n",
      "( 207 / 306 ) Russian Restaurants in Mariner's Harbor, Staten Island:0\n",
      "( 208 / 306 ) Russian Restaurants in Port Ivory, Staten Island:0\n",
      "( 209 / 306 ) Russian Restaurants in Castleton Corners, Staten Island:0\n",
      "( 210 / 306 ) Russian Restaurants in New Springville, Staten Island:0\n",
      "( 211 / 306 ) Russian Restaurants in Travis, Staten Island:0\n",
      "( 212 / 306 ) Russian Restaurants in New Dorp, Staten Island:0\n",
      "( 213 / 306 ) Russian Restaurants in Oakwood, Staten Island:0\n",
      "( 214 / 306 ) Russian Restaurants in Great Kills, Staten Island:0\n",
      "( 215 / 306 ) Russian Restaurants in Eltingville, Staten Island:0\n",
      "( 216 / 306 ) Russian Restaurants in Annadale, Staten Island:0\n",
      "( 217 / 306 ) Russian Restaurants in Woodrow, Staten Island:0\n",
      "( 218 / 306 ) Russian Restaurants in Tottenville, Staten Island:0\n",
      "( 219 / 306 ) Russian Restaurants in Tompkinsville, Staten Island:0\n",
      "( 220 / 306 ) Russian Restaurants in Silver Lake, Staten Island:0\n",
      "( 221 / 306 ) Russian Restaurants in Sunnyside, Staten Island:0\n",
      "( 222 / 306 ) Russian Restaurants in Ditmas Park, Brooklyn:0\n",
      "( 223 / 306 ) Russian Restaurants in Wingate, Brooklyn:0\n",
      "( 224 / 306 ) Russian Restaurants in Rugby, Brooklyn:0\n",
      "( 225 / 306 ) Russian Restaurants in Park Hill, Staten Island:0\n",
      "( 226 / 306 ) Russian Restaurants in Westerleigh, Staten Island:0\n",
      "( 227 / 306 ) Russian Restaurants in Graniteville, Staten Island:0\n",
      "( 228 / 306 ) Russian Restaurants in Arlington, Staten Island:0\n",
      "( 229 / 306 ) Russian Restaurants in Arrochar, Staten Island:0\n",
      "( 230 / 306 ) Russian Restaurants in Grasmere, Staten Island:0\n",
      "( 231 / 306 ) Russian Restaurants in Old Town, Staten Island:0\n",
      "( 232 / 306 ) Russian Restaurants in Dongan Hills, Staten Island:0\n",
      "( 233 / 306 ) Russian Restaurants in Midland Beach, Staten Island:0\n",
      "( 234 / 306 ) Russian Restaurants in Grant City, Staten Island:0\n",
      "( 235 / 306 ) Russian Restaurants in New Dorp Beach, Staten Island:0\n",
      "( 236 / 306 ) Russian Restaurants in Bay Terrace, Staten Island:0\n",
      "( 237 / 306 ) Russian Restaurants in Huguenot, Staten Island:0\n",
      "( 238 / 306 ) Russian Restaurants in Pleasant Plains, Staten Island:0\n",
      "( 239 / 306 ) Russian Restaurants in Butler Manor, Staten Island:0\n",
      "( 240 / 306 ) Russian Restaurants in Charleston, Staten Island:0\n",
      "( 241 / 306 ) Russian Restaurants in Rossville, Staten Island:0\n",
      "( 242 / 306 ) Russian Restaurants in Arden Heights, Staten Island:0\n",
      "( 243 / 306 ) Russian Restaurants in Greenridge, Staten Island:0\n",
      "( 244 / 306 ) Russian Restaurants in Heartland Village, Staten Island:0\n",
      "( 245 / 306 ) Russian Restaurants in Chelsea, Staten Island:0\n",
      "( 246 / 306 ) Russian Restaurants in Bloomfield, Staten Island:0\n",
      "( 247 / 306 ) Russian Restaurants in Bulls Head, Staten Island:0\n",
      "( 248 / 306 ) Russian Restaurants in Carnegie Hill, Manhattan:0\n",
      "( 249 / 306 ) Russian Restaurants in Noho, Manhattan:0\n",
      "( 250 / 306 ) Russian Restaurants in Civic Center, Manhattan:0\n",
      "( 251 / 306 ) Russian Restaurants in Midtown South, Manhattan:0\n",
      "( 252 / 306 ) Russian Restaurants in Richmond Town, Staten Island:0\n",
      "( 253 / 306 ) Russian Restaurants in Shore Acres, Staten Island:0\n",
      "( 254 / 306 ) Russian Restaurants in Clifton, Staten Island:0\n",
      "( 255 / 306 ) Russian Restaurants in Concord, Staten Island:0\n",
      "( 256 / 306 ) Russian Restaurants in Emerson Hill, Staten Island:0\n",
      "( 257 / 306 ) Russian Restaurants in Randall Manor, Staten Island:0\n",
      "( 258 / 306 ) Russian Restaurants in Howland Hook, Staten Island:0\n",
      "( 259 / 306 ) Russian Restaurants in Elm Park, Staten Island:0\n",
      "( 260 / 306 ) Russian Restaurants in Remsen Village, Brooklyn:0\n",
      "( 261 / 306 ) Russian Restaurants in New Lots, Brooklyn:0\n",
      "( 262 / 306 ) Russian Restaurants in Paerdegat Basin, Brooklyn:0\n",
      "( 263 / 306 ) Russian Restaurants in Mill Basin, Brooklyn:0\n",
      "( 264 / 306 ) Russian Restaurants in Jamaica Hills, Queens:0\n",
      "( 265 / 306 ) Russian Restaurants in Utopia, Queens:0\n",
      "( 266 / 306 ) Russian Restaurants in Pomonok, Queens:0\n",
      "( 267 / 306 ) Russian Restaurants in Astoria Heights, Queens:0\n",
      "( 268 / 306 ) Russian Restaurants in Claremont Village, Bronx:0\n",
      "( 269 / 306 ) Russian Restaurants in Concourse Village, Bronx:0\n",
      "( 270 / 306 ) Russian Restaurants in Mount Eden, Bronx:0\n",
      "( 271 / 306 ) Russian Restaurants in Mount Hope, Bronx:0\n",
      "( 272 / 306 ) Russian Restaurants in Sutton Place, Manhattan:0\n",
      "( 273 / 306 ) Russian Restaurants in Hunters Point, Queens:0\n",
      "( 274 / 306 ) Russian Restaurants in Turtle Bay, Manhattan:0\n",
      "( 275 / 306 ) Russian Restaurants in Tudor City, Manhattan:0\n",
      "( 276 / 306 ) Russian Restaurants in Stuyvesant Town, Manhattan:0\n",
      "( 277 / 306 ) Russian Restaurants in Flatiron, Manhattan:0\n",
      "( 278 / 306 ) Russian Restaurants in Sunnyside Gardens, Queens:0\n",
      "( 279 / 306 ) Russian Restaurants in Blissville, Queens:0\n",
      "( 280 / 306 ) Russian Restaurants in Fulton Ferry, Brooklyn:0\n",
      "( 281 / 306 ) Russian Restaurants in Vinegar Hill, Brooklyn:0\n",
      "( 282 / 306 ) Russian Restaurants in Weeksville, Brooklyn:0\n",
      "( 283 / 306 ) Russian Restaurants in Broadway Junction, Brooklyn:0\n",
      "( 284 / 306 ) Russian Restaurants in Dumbo, Brooklyn:0\n",
      "( 285 / 306 ) Russian Restaurants in Manor Heights, Staten Island:0\n",
      "( 286 / 306 ) Russian Restaurants in Willowbrook, Staten Island:0\n",
      "( 287 / 306 ) Russian Restaurants in Sandy Ground, Staten Island:0\n",
      "( 288 / 306 ) Russian Restaurants in Egbertville, Staten Island:0\n",
      "( 289 / 306 ) Russian Restaurants in Roxbury, Queens:0\n",
      "( 290 / 306 ) Russian Restaurants in Homecrest, Brooklyn:0\n",
      "( 291 / 306 ) Russian Restaurants in Middle Village, Queens:0\n",
      "( 292 / 306 ) Russian Restaurants in Prince's Bay, Staten Island:0\n",
      "( 293 / 306 ) Russian Restaurants in Lighthouse Hill, Staten Island:0\n",
      "( 294 / 306 ) Russian Restaurants in Richmond Valley, Staten Island:0\n",
      "( 295 / 306 ) Russian Restaurants in Malba, Queens:0\n",
      "( 296 / 306 ) Russian Restaurants in Highland Park, Brooklyn:0\n",
      "( 297 / 306 ) Russian Restaurants in Madison, Brooklyn:0\n",
      "( 298 / 306 ) Russian Restaurants in Bronxdale, Bronx:0\n",
      "( 299 / 306 ) Russian Restaurants in Allerton, Bronx:0\n",
      "( 300 / 306 ) Russian Restaurants in Kingsbridge Heights, Bronx:0\n",
      "( 301 / 306 ) Russian Restaurants in Erasmus, Brooklyn:0\n",
      "( 302 / 306 ) Russian Restaurants in Hudson Yards, Manhattan:0\n",
      "( 303 / 306 ) Russian Restaurants in Hammels, Queens:0\n",
      "( 304 / 306 ) Russian Restaurants in Bayswater, Queens:0\n",
      "( 305 / 306 ) Russian Restaurants in Queensbridge, Queens:0\n",
      "( 306 / 306 ) Russian Restaurants in Fox Hills, Staten Island:0\n"
     ]
    }
   ],
   "source": [
    "# we are preparing a neighborhood list with Russian restaurants\n",
    "column_names=['Borough', 'Neighborhood', 'ID','Name']\n",
    "ru_restaurants_neighbor=pd.DataFrame(columns=column_names)\n",
    "count=1\n",
    "for row in new_york_data.values.tolist():\n",
    "    Borough, Neighborhood, Latitude, Longitude=row\n",
    "    venues = get_venues(Latitude,Longitude)\n",
    "    ru_restaurants=venues[venues['Category']=='Russian Restaurant']   \n",
    "    print('(',count,'/',len(new_york_data),')','Russian Restaurants in '+Neighborhood+', '+Borough+':'+str(len(ru_restaurants)))\n",
    "    for restaurant_detail in ru_restaurants.values.tolist():\n",
    "        id, name , category=restaurant_detail\n",
    "        ru_restaurants_neighbor = ru_restaurants_neighbor.append({'Borough': Borough,\n",
    "                                                'Neighborhood': Neighborhood, \n",
    "                                                'ID': id,\n",
    "                                                'Name' : name\n",
    "                                               }, ignore_index=True)\n",
    "    count+=1\n"
   ]
  },
  {
   "cell_type": "code",
   "execution_count": 14,
   "metadata": {},
   "outputs": [
    {
     "data": {
      "text/plain": [
       "(20, 4)"
      ]
     },
     "execution_count": 14,
     "metadata": {},
     "output_type": "execute_result"
    }
   ],
   "source": [
    "ru_restaurants_neighbor.shape"
   ]
  },
  {
   "cell_type": "code",
   "execution_count": 15,
   "metadata": {},
   "outputs": [
    {
     "data": {
      "image/png": "[encoded data removed]",
      "text/plain": [
       "<Figure size 900x500 with 1 Axes>"
      ]
     },
     "metadata": {
      "needs_background": "light"
     },
     "output_type": "display_data"
    }
   ],
   "source": [
    "plt.figure(figsize=(9,5), dpi = 100)\n",
    "# title\n",
    "plt.title('Russian Restaurants Number for each Borough in NY City')\n",
    "#On x-axis\n",
    "plt.xlabel('Borough', fontsize = 18)\n",
    "#On y-axis\n",
    "plt.ylabel('No.of Russian Restaurants', fontsize=18)\n",
    "#giving a bar plot\n",
    "ru_restaurants_neighbor.groupby('Borough')['ID'].count().plot(kind='bar')\n",
    "#legend\n",
    "plt.legend()\n",
    "#displays the plot\n",
    "plt.show()"
   ]
  },
  {
   "cell_type": "markdown",
   "metadata": {},
   "source": [
    "Brooklyn has the highest number of Russian Restaurants"
   ]
  },
  {
   "cell_type": "code",
   "execution_count": 16,
   "metadata": {
    "scrolled": true
   },
   "outputs": [
    {
     "data": {
      "image/png": "[encoded data removed]",
      "text/plain": [
       "<Figure size 900x500 with 1 Axes>"
      ]
     },
     "metadata": {
      "needs_background": "light"
     },
     "output_type": "display_data"
    }
   ],
   "source": [
    "plt.figure(figsize=(9,5), dpi = 100)\n",
    "# title\n",
    "plt.title('Russian Restaurants Number for each Neighborhood in NY City')\n",
    "#On x-axis\n",
    "plt.xlabel('Neighborhood', fontsize = 15)\n",
    "#On y-axis\n",
    "plt.ylabel('No.of Russian Restaurants', fontsize=15)\n",
    "#giving a bar plot\n",
    "ru_restaurants_neighbor.groupby('Neighborhood')['ID'].count().nlargest(5).plot(kind='bar')\n",
    "#legend\n",
    "plt.legend()\n",
    "#displays the plot\n",
    "plt.show()"
   ]
  },
  {
   "cell_type": "code",
   "execution_count": 17,
   "metadata": {
    "scrolled": true
   },
   "outputs": [
    {
     "data": {
      "text/html": [
       "<div>\n",
       "<style scoped>\n",
       "    .dataframe tbody tr th:only-of-type {\n",
       "        vertical-align: middle;\n",
       "    }\n",
       "\n",
       "    .dataframe tbody tr th {\n",
       "        vertical-align: top;\n",
       "    }\n",
       "\n",
       "    .dataframe thead th {\n",
       "        text-align: right;\n",
       "    }\n",
       "</style>\n",
       "<table border=\"1\" class=\"dataframe\">\n",
       "  <thead>\n",
       "    <tr style=\"text-align: right;\">\n",
       "      <th></th>\n",
       "      <th>Borough</th>\n",
       "      <th>Neighborhood</th>\n",
       "      <th>ID</th>\n",
       "      <th>Name</th>\n",
       "    </tr>\n",
       "  </thead>\n",
       "  <tbody>\n",
       "    <tr>\n",
       "      <th>3</th>\n",
       "      <td>Brooklyn</td>\n",
       "      <td>Sheepshead Bay</td>\n",
       "      <td>5a08f7e2d48ec1369706f57d</td>\n",
       "      <td>Bellarussian Xata</td>\n",
       "    </tr>\n",
       "    <tr>\n",
       "      <th>4</th>\n",
       "      <td>Brooklyn</td>\n",
       "      <td>Sheepshead Bay</td>\n",
       "      <td>55d6885e498e41b9e7b8b5e8</td>\n",
       "      <td>Cafe Dushanbe</td>\n",
       "    </tr>\n",
       "    <tr>\n",
       "      <th>5</th>\n",
       "      <td>Brooklyn</td>\n",
       "      <td>Sheepshead Bay</td>\n",
       "      <td>5324ee02498e9a825bb4f689</td>\n",
       "      <td>La Vue Restaurant</td>\n",
       "    </tr>\n",
       "    <tr>\n",
       "      <th>6</th>\n",
       "      <td>Brooklyn</td>\n",
       "      <td>Sheepshead Bay</td>\n",
       "      <td>4b2ecbf5f964a520cee624e3</td>\n",
       "      <td>Passage</td>\n",
       "    </tr>\n",
       "    <tr>\n",
       "      <th>7</th>\n",
       "      <td>Brooklyn</td>\n",
       "      <td>Sheepshead Bay</td>\n",
       "      <td>4b53cec1f964a520f9ab27e3</td>\n",
       "      <td>Vanka Vstanka</td>\n",
       "    </tr>\n",
       "  </tbody>\n",
       "</table>\n",
       "</div>"
      ],
      "text/plain": [
       "    Borough    Neighborhood                        ID               Name\n",
       "3  Brooklyn  Sheepshead Bay  5a08f7e2d48ec1369706f57d  Bellarussian Xata\n",
       "4  Brooklyn  Sheepshead Bay  55d6885e498e41b9e7b8b5e8      Cafe Dushanbe\n",
       "5  Brooklyn  Sheepshead Bay  5324ee02498e9a825bb4f689  La Vue Restaurant\n",
       "6  Brooklyn  Sheepshead Bay  4b2ecbf5f964a520cee624e3            Passage\n",
       "7  Brooklyn  Sheepshead Bay  4b53cec1f964a520f9ab27e3      Vanka Vstanka"
      ]
     },
     "execution_count": 17,
     "metadata": {},
     "output_type": "execute_result"
    }
   ],
   "source": [
    "ru_restaurants_neighbor[ru_restaurants_neighbor['Neighborhood']=='Sheepshead Bay']"
   ]
  },
  {
   "cell_type": "code",
   "execution_count": 18,
   "metadata": {},
   "outputs": [
    {
     "data": {
      "text/html": [
       "<div>\n",
       "<style scoped>\n",
       "    .dataframe tbody tr th:only-of-type {\n",
       "        vertical-align: middle;\n",
       "    }\n",
       "\n",
       "    .dataframe tbody tr th {\n",
       "        vertical-align: top;\n",
       "    }\n",
       "\n",
       "    .dataframe thead th {\n",
       "        text-align: right;\n",
       "    }\n",
       "</style>\n",
       "<table border=\"1\" class=\"dataframe\">\n",
       "  <thead>\n",
       "    <tr style=\"text-align: right;\">\n",
       "      <th></th>\n",
       "      <th>Borough</th>\n",
       "      <th>Neighborhood</th>\n",
       "      <th>ID</th>\n",
       "      <th>Name</th>\n",
       "    </tr>\n",
       "  </thead>\n",
       "  <tbody>\n",
       "    <tr>\n",
       "      <th>16</th>\n",
       "      <td>Brooklyn</td>\n",
       "      <td>Homecrest</td>\n",
       "      <td>4a2937fcf964a52069951fe3</td>\n",
       "      <td>Stolovaya</td>\n",
       "    </tr>\n",
       "    <tr>\n",
       "      <th>17</th>\n",
       "      <td>Brooklyn</td>\n",
       "      <td>Homecrest</td>\n",
       "      <td>45a5267bf964a520fc401fe3</td>\n",
       "      <td>Pirosmani</td>\n",
       "    </tr>\n",
       "    <tr>\n",
       "      <th>18</th>\n",
       "      <td>Brooklyn</td>\n",
       "      <td>Homecrest</td>\n",
       "      <td>52b4e4a5498e11c54d9fdb6d</td>\n",
       "      <td>Padishah</td>\n",
       "    </tr>\n",
       "    <tr>\n",
       "      <th>19</th>\n",
       "      <td>Brooklyn</td>\n",
       "      <td>Homecrest</td>\n",
       "      <td>5216b79a11d2f52ef2ee2e24</td>\n",
       "      <td>The Art House</td>\n",
       "    </tr>\n",
       "  </tbody>\n",
       "</table>\n",
       "</div>"
      ],
      "text/plain": [
       "     Borough Neighborhood                        ID           Name\n",
       "16  Brooklyn    Homecrest  4a2937fcf964a52069951fe3      Stolovaya\n",
       "17  Brooklyn    Homecrest  45a5267bf964a520fc401fe3      Pirosmani\n",
       "18  Brooklyn    Homecrest  52b4e4a5498e11c54d9fdb6d       Padishah\n",
       "19  Brooklyn    Homecrest  5216b79a11d2f52ef2ee2e24  The Art House"
      ]
     },
     "execution_count": 18,
     "metadata": {},
     "output_type": "execute_result"
    }
   ],
   "source": [
    "ru_restaurants_neighbor[ru_restaurants_neighbor['Neighborhood']=='Homecrest']"
   ]
  },
  {
   "cell_type": "markdown",
   "metadata": {},
   "source": [
    "### Let's rank the restaurants"
   ]
  },
  {
   "cell_type": "code",
   "execution_count": 19,
   "metadata": {},
   "outputs": [
    {
     "name": "stdout",
     "output_type": "stream",
     "text": [
      "                         ID       Name  Likes  Rating  Tips\n",
      "0  4a2937fcf964a52069951fe3  Stolovaya     41     8.1    27\n",
      "( 1 / 20 ) processed\n",
      "                         ID        Name  Likes  Rating  Tips\n",
      "0  4ac69109f964a52017b520e3  Skovorodka     95     8.1    48\n",
      "( 2 / 20 ) processed\n",
      "                         ID                Name  Likes  Rating  Tips\n",
      "0  4245f780f964a52070201fe3  Tatiana Restaurant    158     6.8    67\n",
      "( 3 / 20 ) processed\n",
      "                         ID               Name  Likes  Rating  Tips\n",
      "0  5a08f7e2d48ec1369706f57d  Bellarussian Xata     24     8.7     7\n",
      "( 4 / 20 ) processed\n",
      "                         ID           Name  Likes  Rating  Tips\n",
      "0  55d6885e498e41b9e7b8b5e8  Cafe Dushanbe     10     7.4     3\n",
      "( 5 / 20 ) processed\n",
      "                         ID               Name  Likes  Rating  Tips\n",
      "0  5324ee02498e9a825bb4f689  La Vue Restaurant     23     7.0     3\n",
      "( 6 / 20 ) processed\n",
      "                         ID     Name  Likes  Rating  Tips\n",
      "0  4b2ecbf5f964a520cee624e3  Passage      8     6.1     5\n",
      "( 7 / 20 ) processed\n",
      "                         ID           Name  Likes  Rating  Tips\n",
      "0  4b53cec1f964a520f9ab27e3  Vanka Vstanka      5     6.0     4\n",
      "( 8 / 20 ) processed\n",
      "                         ID          Name  Likes  Rating  Tips\n",
      "0  531d0f0b11d2ad3e0970136a  Village Cafe     17     7.8     7\n",
      "( 9 / 20 ) processed\n",
      "                         ID           Name  Likes  Rating  Tips\n",
      "0  55d6885e498e41b9e7b8b5e8  Cafe Dushanbe     10     7.4     3\n",
      "( 10 / 20 ) processed\n",
      "                         ID     Name  Likes  Rating  Tips\n",
      "0  4b2ecbf5f964a520cee624e3  Passage      8     6.1     5\n",
      "( 11 / 20 ) processed\n",
      "                         ID               Name  Likes  Rating  Tips\n",
      "0  5324ee02498e9a825bb4f689  La Vue Restaurant     23     7.0     3\n",
      "( 12 / 20 ) processed\n",
      "                         ID           Name  Likes  Rating  Tips\n",
      "0  4b53cec1f964a520f9ab27e3  Vanka Vstanka      5     6.0     4\n",
      "( 13 / 20 ) processed\n",
      "                         ID          Name  Likes  Rating  Tips\n",
      "0  531d0f0b11d2ad3e0970136a  Village Cafe     17     7.8     7\n",
      "( 14 / 20 ) processed\n",
      "                         ID        Name  Likes  Rating  Tips\n",
      "0  4a777018f964a5207be41fe3  Mari Vanna    546     9.0   193\n",
      "( 15 / 20 ) processed\n",
      "                         ID        Name  Likes  Rating  Tips\n",
      "0  4a777018f964a5207be41fe3  Mari Vanna    546     9.0   193\n",
      "( 16 / 20 ) processed\n",
      "                         ID       Name  Likes  Rating  Tips\n",
      "0  4a2937fcf964a52069951fe3  Stolovaya     41     8.1    27\n",
      "( 17 / 20 ) processed\n",
      "                         ID       Name  Likes  Rating  Tips\n",
      "0  45a5267bf964a520fc401fe3  Pirosmani      9     7.6     8\n",
      "( 18 / 20 ) processed\n",
      "                         ID      Name  Likes  Rating  Tips\n",
      "0  52b4e4a5498e11c54d9fdb6d  Padishah      3     6.1     3\n",
      "( 19 / 20 ) processed\n",
      "                         ID           Name  Likes  Rating  Tips\n",
      "0  5216b79a11d2f52ef2ee2e24  The Art House      6     5.9     4\n",
      "( 20 / 20 ) processed\n"
     ]
    }
   ],
   "source": [
    "# prepare neighborhood list that contains Russian Restaurants\n",
    "column_names=['Borough', 'Neighborhood', 'ID','Name','Likes','Rating','Tips']\n",
    "ru_rstrnt_stat_neighbor=pd.DataFrame(columns=column_names)\n",
    "count=1\n",
    "\n",
    "\n",
    "for row in ru_restaurants_neighbor.values.tolist():\n",
    "    Borough,Neighborhood,ID,Name=row\n",
    "    try:\n",
    "        venue_details=get_venue_details(ID)\n",
    "        print(venue_details)\n",
    "        id,name,likes,rating,tips=venue_details.values.tolist()[0]\n",
    "    except IndexError:\n",
    "        print('No data available for id=',ID)\n",
    "        # we will assign 0 value for these resturants as they may have been \n",
    "        #recently opened or details does not exist in FourSquare Database\n",
    "        id,name,likes,rating,tips=[0]*5\n",
    "    print('(',count,'/',len(ru_restaurants_neighbor),')','processed')\n",
    "    ru_rstrnt_stat_neighbor = ru_rstrnt_stat_neighbor.append({'Borough': Borough,\n",
    "                                                'Neighborhood': Neighborhood, \n",
    "                                                'ID': id,\n",
    "                                                'Name' : name,\n",
    "                                                'Likes' : likes,\n",
    "                                                'Rating' : rating,\n",
    "                                                'Tips' : tips\n",
    "                                               }, ignore_index=True)\n",
    "    count+=1"
   ]
  },
  {
   "cell_type": "code",
   "execution_count": 20,
   "metadata": {},
   "outputs": [
    {
     "data": {
      "text/html": [
       "<div>\n",
       "<style scoped>\n",
       "    .dataframe tbody tr th:only-of-type {\n",
       "        vertical-align: middle;\n",
       "    }\n",
       "\n",
       "    .dataframe tbody tr th {\n",
       "        vertical-align: top;\n",
       "    }\n",
       "\n",
       "    .dataframe thead th {\n",
       "        text-align: right;\n",
       "    }\n",
       "</style>\n",
       "<table border=\"1\" class=\"dataframe\">\n",
       "  <thead>\n",
       "    <tr style=\"text-align: right;\">\n",
       "      <th></th>\n",
       "      <th>Borough</th>\n",
       "      <th>Neighborhood</th>\n",
       "      <th>ID</th>\n",
       "      <th>Name</th>\n",
       "      <th>Likes</th>\n",
       "      <th>Rating</th>\n",
       "      <th>Tips</th>\n",
       "    </tr>\n",
       "  </thead>\n",
       "  <tbody>\n",
       "    <tr>\n",
       "      <th>0</th>\n",
       "      <td>Brooklyn</td>\n",
       "      <td>Gravesend</td>\n",
       "      <td>4a2937fcf964a52069951fe3</td>\n",
       "      <td>Stolovaya</td>\n",
       "      <td>41</td>\n",
       "      <td>8.1</td>\n",
       "      <td>27</td>\n",
       "    </tr>\n",
       "    <tr>\n",
       "      <th>1</th>\n",
       "      <td>Brooklyn</td>\n",
       "      <td>Brighton Beach</td>\n",
       "      <td>4ac69109f964a52017b520e3</td>\n",
       "      <td>Skovorodka</td>\n",
       "      <td>95</td>\n",
       "      <td>8.1</td>\n",
       "      <td>48</td>\n",
       "    </tr>\n",
       "    <tr>\n",
       "      <th>2</th>\n",
       "      <td>Brooklyn</td>\n",
       "      <td>Brighton Beach</td>\n",
       "      <td>4245f780f964a52070201fe3</td>\n",
       "      <td>Tatiana Restaurant</td>\n",
       "      <td>158</td>\n",
       "      <td>6.8</td>\n",
       "      <td>67</td>\n",
       "    </tr>\n",
       "    <tr>\n",
       "      <th>3</th>\n",
       "      <td>Brooklyn</td>\n",
       "      <td>Sheepshead Bay</td>\n",
       "      <td>5a08f7e2d48ec1369706f57d</td>\n",
       "      <td>Bellarussian Xata</td>\n",
       "      <td>24</td>\n",
       "      <td>8.7</td>\n",
       "      <td>7</td>\n",
       "    </tr>\n",
       "    <tr>\n",
       "      <th>4</th>\n",
       "      <td>Brooklyn</td>\n",
       "      <td>Sheepshead Bay</td>\n",
       "      <td>55d6885e498e41b9e7b8b5e8</td>\n",
       "      <td>Cafe Dushanbe</td>\n",
       "      <td>10</td>\n",
       "      <td>7.4</td>\n",
       "      <td>3</td>\n",
       "    </tr>\n",
       "  </tbody>\n",
       "</table>\n",
       "</div>"
      ],
      "text/plain": [
       "    Borough    Neighborhood                        ID                Name  \\\n",
       "0  Brooklyn       Gravesend  4a2937fcf964a52069951fe3           Stolovaya   \n",
       "1  Brooklyn  Brighton Beach  4ac69109f964a52017b520e3          Skovorodka   \n",
       "2  Brooklyn  Brighton Beach  4245f780f964a52070201fe3  Tatiana Restaurant   \n",
       "3  Brooklyn  Sheepshead Bay  5a08f7e2d48ec1369706f57d   Bellarussian Xata   \n",
       "4  Brooklyn  Sheepshead Bay  55d6885e498e41b9e7b8b5e8       Cafe Dushanbe   \n",
       "\n",
       "  Likes  Rating Tips  \n",
       "0    41     8.1   27  \n",
       "1    95     8.1   48  \n",
       "2   158     6.8   67  \n",
       "3    24     8.7    7  \n",
       "4    10     7.4    3  "
      ]
     },
     "execution_count": 20,
     "metadata": {},
     "output_type": "execute_result"
    }
   ],
   "source": [
    "ru_rstrnt_stat_neighbor.head()\n"
   ]
  },
  {
   "cell_type": "code",
   "execution_count": 21,
   "metadata": {},
   "outputs": [
    {
     "data": {
      "text/plain": [
       "(20, 4)"
      ]
     },
     "execution_count": 21,
     "metadata": {},
     "output_type": "execute_result"
    }
   ],
   "source": [
    "ru_restaurants_neighbor.shape"
   ]
  },
  {
   "cell_type": "markdown",
   "metadata": {},
   "source": [
    "Next step is to export data to csv"
   ]
  },
  {
   "cell_type": "code",
   "execution_count": 22,
   "metadata": {},
   "outputs": [],
   "source": [
    "ru_rstrnt_stat_neighbor.to_csv('ru_rstrnt_stat_neighbor.csv', index= False)"
   ]
  },
  {
   "cell_type": "code",
   "execution_count": 23,
   "metadata": {},
   "outputs": [
    {
     "name": "stdout",
     "output_type": "stream",
     "text": [
      "<class 'pandas.core.frame.DataFrame'>\n",
      "RangeIndex: 20 entries, 0 to 19\n",
      "Data columns (total 7 columns):\n",
      "Borough         20 non-null object\n",
      "Neighborhood    20 non-null object\n",
      "ID              20 non-null object\n",
      "Name            20 non-null object\n",
      "Likes           20 non-null object\n",
      "Rating          20 non-null float64\n",
      "Tips            20 non-null object\n",
      "dtypes: float64(1), object(6)\n",
      "memory usage: 1.2+ KB\n"
     ]
    }
   ],
   "source": [
    "ru_rstrnt_stat_neighbor.info()"
   ]
  },
  {
   "cell_type": "code",
   "execution_count": 24,
   "metadata": {},
   "outputs": [],
   "source": [
    "ru_rstrnt_stat_neighbor['Likes']=ru_rstrnt_stat_neighbor['Likes'].astype('float64')"
   ]
  },
  {
   "cell_type": "code",
   "execution_count": 25,
   "metadata": {},
   "outputs": [],
   "source": [
    "ru_rstrnt_stat_neighbor['Tips']=ru_rstrnt_stat_neighbor['Tips'].astype('float64')"
   ]
  },
  {
   "cell_type": "code",
   "execution_count": 26,
   "metadata": {},
   "outputs": [
    {
     "name": "stdout",
     "output_type": "stream",
     "text": [
      "<class 'pandas.core.frame.DataFrame'>\n",
      "RangeIndex: 20 entries, 0 to 19\n",
      "Data columns (total 7 columns):\n",
      "Borough         20 non-null object\n",
      "Neighborhood    20 non-null object\n",
      "ID              20 non-null object\n",
      "Name            20 non-null object\n",
      "Likes           20 non-null float64\n",
      "Rating          20 non-null float64\n",
      "Tips            20 non-null float64\n",
      "dtypes: float64(3), object(4)\n",
      "memory usage: 1.2+ KB\n"
     ]
    }
   ],
   "source": [
    "ru_rstrnt_stat_neighbor.info()"
   ]
  },
  {
   "cell_type": "code",
   "execution_count": 27,
   "metadata": {},
   "outputs": [
    {
     "data": {
      "text/plain": [
       "Borough                        Manhattan\n",
       "Neighborhood                    Gramercy\n",
       "ID              4a777018f964a5207be41fe3\n",
       "Name                          Mari Vanna\n",
       "Likes                                546\n",
       "Rating                                 9\n",
       "Tips                                 193\n",
       "Name: 14, dtype: object"
      ]
     },
     "execution_count": 27,
     "metadata": {},
     "output_type": "execute_result"
    }
   ],
   "source": [
    "# Restaurant maximum Likes\n",
    "ru_rstrnt_stat_neighbor.iloc[ru_rstrnt_stat_neighbor['Likes'].idxmax()]"
   ]
  },
  {
   "cell_type": "code",
   "execution_count": 28,
   "metadata": {},
   "outputs": [
    {
     "data": {
      "text/plain": [
       "Borough                        Manhattan\n",
       "Neighborhood                    Gramercy\n",
       "ID              4a777018f964a5207be41fe3\n",
       "Name                          Mari Vanna\n",
       "Likes                                546\n",
       "Rating                                 9\n",
       "Tips                                 193\n",
       "Name: 14, dtype: object"
      ]
     },
     "execution_count": 28,
     "metadata": {},
     "output_type": "execute_result"
    }
   ],
   "source": [
    "# Restaurant maximum Rating\n",
    "ru_rstrnt_stat_neighbor.iloc[ru_rstrnt_stat_neighbor['Rating'].idxmax()]\n"
   ]
  },
  {
   "cell_type": "code",
   "execution_count": 29,
   "metadata": {},
   "outputs": [
    {
     "data": {
      "text/plain": [
       "Borough                        Manhattan\n",
       "Neighborhood                    Gramercy\n",
       "ID              4a777018f964a5207be41fe3\n",
       "Name                          Mari Vanna\n",
       "Likes                                546\n",
       "Rating                                 9\n",
       "Tips                                 193\n",
       "Name: 14, dtype: object"
      ]
     },
     "execution_count": 29,
     "metadata": {},
     "output_type": "execute_result"
    }
   ],
   "source": [
    "# Restaurant maximum Tips\n",
    "ru_rstrnt_stat_neighbor.iloc[ru_rstrnt_stat_neighbor['Tips'].idxmax()]"
   ]
  },
  {
   "cell_type": "code",
   "execution_count": 30,
   "metadata": {},
   "outputs": [],
   "source": [
    "neighb_stats=ru_rstrnt_stat_neighbor.groupby('Neighborhood',as_index=False).mean()[['Neighborhood','Rating']]\n",
    "neighb_stats.columns=['Neighborhood','Average Rating']"
   ]
  },
  {
   "cell_type": "code",
   "execution_count": 31,
   "metadata": {
    "scrolled": true
   },
   "outputs": [
    {
     "name": "stdout",
     "output_type": "stream",
     "text": [
      "Below are the top neighborhoods with top average rating Russian restaurants\n"
     ]
    },
    {
     "data": {
      "text/html": [
       "<div>\n",
       "<style scoped>\n",
       "    .dataframe tbody tr th:only-of-type {\n",
       "        vertical-align: middle;\n",
       "    }\n",
       "\n",
       "    .dataframe tbody tr th {\n",
       "        vertical-align: top;\n",
       "    }\n",
       "\n",
       "    .dataframe thead th {\n",
       "        text-align: right;\n",
       "    }\n",
       "</style>\n",
       "<table border=\"1\" class=\"dataframe\">\n",
       "  <thead>\n",
       "    <tr style=\"text-align: right;\">\n",
       "      <th></th>\n",
       "      <th>Neighborhood</th>\n",
       "      <th>Average Rating</th>\n",
       "    </tr>\n",
       "  </thead>\n",
       "  <tbody>\n",
       "    <tr>\n",
       "      <th>1</th>\n",
       "      <td>Flatiron</td>\n",
       "      <td>9.000</td>\n",
       "    </tr>\n",
       "    <tr>\n",
       "      <th>3</th>\n",
       "      <td>Gramercy</td>\n",
       "      <td>9.000</td>\n",
       "    </tr>\n",
       "    <tr>\n",
       "      <th>4</th>\n",
       "      <td>Gravesend</td>\n",
       "      <td>8.100</td>\n",
       "    </tr>\n",
       "    <tr>\n",
       "      <th>7</th>\n",
       "      <td>Manhattan Terrace</td>\n",
       "      <td>7.800</td>\n",
       "    </tr>\n",
       "    <tr>\n",
       "      <th>8</th>\n",
       "      <td>Ocean Parkway</td>\n",
       "      <td>7.800</td>\n",
       "    </tr>\n",
       "    <tr>\n",
       "      <th>0</th>\n",
       "      <td>Brighton Beach</td>\n",
       "      <td>7.450</td>\n",
       "    </tr>\n",
       "    <tr>\n",
       "      <th>9</th>\n",
       "      <td>Sheepshead Bay</td>\n",
       "      <td>7.040</td>\n",
       "    </tr>\n",
       "    <tr>\n",
       "      <th>5</th>\n",
       "      <td>Homecrest</td>\n",
       "      <td>6.925</td>\n",
       "    </tr>\n",
       "    <tr>\n",
       "      <th>6</th>\n",
       "      <td>Manhattan Beach</td>\n",
       "      <td>6.750</td>\n",
       "    </tr>\n",
       "    <tr>\n",
       "      <th>2</th>\n",
       "      <td>Gerritsen Beach</td>\n",
       "      <td>6.500</td>\n",
       "    </tr>\n",
       "  </tbody>\n",
       "</table>\n",
       "</div>"
      ],
      "text/plain": [
       "        Neighborhood  Average Rating\n",
       "1           Flatiron           9.000\n",
       "3           Gramercy           9.000\n",
       "4          Gravesend           8.100\n",
       "7  Manhattan Terrace           7.800\n",
       "8      Ocean Parkway           7.800\n",
       "0     Brighton Beach           7.450\n",
       "9     Sheepshead Bay           7.040\n",
       "5          Homecrest           6.925\n",
       "6    Manhattan Beach           6.750\n",
       "2    Gerritsen Beach           6.500"
      ]
     },
     "execution_count": 31,
     "metadata": {},
     "output_type": "execute_result"
    }
   ],
   "source": [
    "\n",
    "print('Below are the top neighborhoods with top average rating Russian restaurants')\n",
    "neighb_stats.sort_values(['Average Rating'],ascending=False).head(10)\n"
   ]
  },
  {
   "cell_type": "code",
   "execution_count": 32,
   "metadata": {},
   "outputs": [],
   "source": [
    "borough_stats=ru_rstrnt_stat_neighbor.groupby('Borough',as_index=False).mean()[['Borough','Rating']]\n",
    "borough_stats.columns=['Borough','Average Rating']"
   ]
  },
  {
   "cell_type": "code",
   "execution_count": 33,
   "metadata": {},
   "outputs": [
    {
     "data": {
      "text/html": [
       "<div>\n",
       "<style scoped>\n",
       "    .dataframe tbody tr th:only-of-type {\n",
       "        vertical-align: middle;\n",
       "    }\n",
       "\n",
       "    .dataframe tbody tr th {\n",
       "        vertical-align: top;\n",
       "    }\n",
       "\n",
       "    .dataframe thead th {\n",
       "        text-align: right;\n",
       "    }\n",
       "</style>\n",
       "<table border=\"1\" class=\"dataframe\">\n",
       "  <thead>\n",
       "    <tr style=\"text-align: right;\">\n",
       "      <th></th>\n",
       "      <th>Borough</th>\n",
       "      <th>Average Rating</th>\n",
       "    </tr>\n",
       "  </thead>\n",
       "  <tbody>\n",
       "    <tr>\n",
       "      <th>1</th>\n",
       "      <td>Manhattan</td>\n",
       "      <td>9.000000</td>\n",
       "    </tr>\n",
       "    <tr>\n",
       "      <th>0</th>\n",
       "      <td>Brooklyn</td>\n",
       "      <td>7.111111</td>\n",
       "    </tr>\n",
       "  </tbody>\n",
       "</table>\n",
       "</div>"
      ],
      "text/plain": [
       "     Borough  Average Rating\n",
       "1  Manhattan        9.000000\n",
       "0   Brooklyn        7.111111"
      ]
     },
     "execution_count": 33,
     "metadata": {},
     "output_type": "execute_result"
    }
   ],
   "source": [
    "borough_stats.sort_values(['Average Rating'],ascending=False).head()"
   ]
  },
  {
   "cell_type": "code",
   "execution_count": 34,
   "metadata": {},
   "outputs": [
    {
     "data": {
      "image/png": "[encoded data removed]",
      "text/plain": [
       "<Figure size 900x500 with 1 Axes>"
      ]
     },
     "metadata": {
      "needs_background": "light"
     },
     "output_type": "display_data"
    }
   ],
   "source": [
    "plt.figure(figsize=(9,5), dpi = 100)\n",
    "# title\n",
    "plt.title('Russian Restaurants Average rating for each Borough')\n",
    "#On x-axis\n",
    "plt.xlabel('Borough', fontsize = 15)\n",
    "#On y-axis\n",
    "plt.ylabel('Average Rating', fontsize=15)\n",
    "#giving a bar plot\n",
    "ru_rstrnt_stat_neighbor.groupby('Borough').mean()['Rating'].plot(kind='bar')\n",
    "#legend\n",
    "plt.legend()\n",
    "#displays the plot\n",
    "plt.show()"
   ]
  },
  {
   "cell_type": "code",
   "execution_count": 35,
   "metadata": {},
   "outputs": [],
   "source": [
    "neighb_stats=neighb_stats[neighb_stats['Average Rating']>=7.0]"
   ]
  },
  {
   "cell_type": "code",
   "execution_count": 36,
   "metadata": {},
   "outputs": [
    {
     "data": {
      "text/html": [
       "<div>\n",
       "<style scoped>\n",
       "    .dataframe tbody tr th:only-of-type {\n",
       "        vertical-align: middle;\n",
       "    }\n",
       "\n",
       "    .dataframe tbody tr th {\n",
       "        vertical-align: top;\n",
       "    }\n",
       "\n",
       "    .dataframe thead th {\n",
       "        text-align: right;\n",
       "    }\n",
       "</style>\n",
       "<table border=\"1\" class=\"dataframe\">\n",
       "  <thead>\n",
       "    <tr style=\"text-align: right;\">\n",
       "      <th></th>\n",
       "      <th>Neighborhood</th>\n",
       "      <th>Average Rating</th>\n",
       "    </tr>\n",
       "  </thead>\n",
       "  <tbody>\n",
       "    <tr>\n",
       "      <th>0</th>\n",
       "      <td>Brighton Beach</td>\n",
       "      <td>7.45</td>\n",
       "    </tr>\n",
       "    <tr>\n",
       "      <th>1</th>\n",
       "      <td>Flatiron</td>\n",
       "      <td>9.00</td>\n",
       "    </tr>\n",
       "    <tr>\n",
       "      <th>3</th>\n",
       "      <td>Gramercy</td>\n",
       "      <td>9.00</td>\n",
       "    </tr>\n",
       "    <tr>\n",
       "      <th>4</th>\n",
       "      <td>Gravesend</td>\n",
       "      <td>8.10</td>\n",
       "    </tr>\n",
       "    <tr>\n",
       "      <th>7</th>\n",
       "      <td>Manhattan Terrace</td>\n",
       "      <td>7.80</td>\n",
       "    </tr>\n",
       "    <tr>\n",
       "      <th>8</th>\n",
       "      <td>Ocean Parkway</td>\n",
       "      <td>7.80</td>\n",
       "    </tr>\n",
       "    <tr>\n",
       "      <th>9</th>\n",
       "      <td>Sheepshead Bay</td>\n",
       "      <td>7.04</td>\n",
       "    </tr>\n",
       "  </tbody>\n",
       "</table>\n",
       "</div>"
      ],
      "text/plain": [
       "        Neighborhood  Average Rating\n",
       "0     Brighton Beach            7.45\n",
       "1           Flatiron            9.00\n",
       "3           Gramercy            9.00\n",
       "4          Gravesend            8.10\n",
       "7  Manhattan Terrace            7.80\n",
       "8      Ocean Parkway            7.80\n",
       "9     Sheepshead Bay            7.04"
      ]
     },
     "execution_count": 36,
     "metadata": {},
     "output_type": "execute_result"
    }
   ],
   "source": [
    "neighb_stats"
   ]
  },
  {
   "cell_type": "markdown",
   "metadata": {},
   "source": [
    "Now we have to join this dataset to original new york data to get lonitude and latitude\n"
   ]
  },
  {
   "cell_type": "code",
   "execution_count": 37,
   "metadata": {},
   "outputs": [],
   "source": [
    "neighb_stats=pd.merge(neighb_stats,new_york_data, on='Neighborhood')\n",
    "\n"
   ]
  },
  {
   "cell_type": "code",
   "execution_count": 38,
   "metadata": {},
   "outputs": [
    {
     "data": {
      "text/html": [
       "<div>\n",
       "<style scoped>\n",
       "    .dataframe tbody tr th:only-of-type {\n",
       "        vertical-align: middle;\n",
       "    }\n",
       "\n",
       "    .dataframe tbody tr th {\n",
       "        vertical-align: top;\n",
       "    }\n",
       "\n",
       "    .dataframe thead th {\n",
       "        text-align: right;\n",
       "    }\n",
       "</style>\n",
       "<table border=\"1\" class=\"dataframe\">\n",
       "  <thead>\n",
       "    <tr style=\"text-align: right;\">\n",
       "      <th></th>\n",
       "      <th>Borough</th>\n",
       "      <th>Neighborhood</th>\n",
       "      <th>Latitude</th>\n",
       "      <th>Longitude</th>\n",
       "      <th>Average Rating</th>\n",
       "    </tr>\n",
       "  </thead>\n",
       "  <tbody>\n",
       "    <tr>\n",
       "      <th>0</th>\n",
       "      <td>Brooklyn</td>\n",
       "      <td>Brighton Beach</td>\n",
       "      <td>40.576825</td>\n",
       "      <td>-73.965094</td>\n",
       "      <td>7.45</td>\n",
       "    </tr>\n",
       "    <tr>\n",
       "      <th>1</th>\n",
       "      <td>Manhattan</td>\n",
       "      <td>Flatiron</td>\n",
       "      <td>40.739673</td>\n",
       "      <td>-73.990947</td>\n",
       "      <td>9.00</td>\n",
       "    </tr>\n",
       "    <tr>\n",
       "      <th>2</th>\n",
       "      <td>Manhattan</td>\n",
       "      <td>Gramercy</td>\n",
       "      <td>40.737210</td>\n",
       "      <td>-73.981376</td>\n",
       "      <td>9.00</td>\n",
       "    </tr>\n",
       "    <tr>\n",
       "      <th>3</th>\n",
       "      <td>Brooklyn</td>\n",
       "      <td>Gravesend</td>\n",
       "      <td>40.595260</td>\n",
       "      <td>-73.973471</td>\n",
       "      <td>8.10</td>\n",
       "    </tr>\n",
       "    <tr>\n",
       "      <th>4</th>\n",
       "      <td>Brooklyn</td>\n",
       "      <td>Manhattan Terrace</td>\n",
       "      <td>40.614433</td>\n",
       "      <td>-73.957438</td>\n",
       "      <td>7.80</td>\n",
       "    </tr>\n",
       "    <tr>\n",
       "      <th>5</th>\n",
       "      <td>Brooklyn</td>\n",
       "      <td>Ocean Parkway</td>\n",
       "      <td>40.613060</td>\n",
       "      <td>-73.968367</td>\n",
       "      <td>7.80</td>\n",
       "    </tr>\n",
       "    <tr>\n",
       "      <th>6</th>\n",
       "      <td>Brooklyn</td>\n",
       "      <td>Sheepshead Bay</td>\n",
       "      <td>40.586890</td>\n",
       "      <td>-73.943186</td>\n",
       "      <td>7.04</td>\n",
       "    </tr>\n",
       "  </tbody>\n",
       "</table>\n",
       "</div>"
      ],
      "text/plain": [
       "     Borough       Neighborhood   Latitude  Longitude  Average Rating\n",
       "0   Brooklyn     Brighton Beach  40.576825 -73.965094            7.45\n",
       "1  Manhattan           Flatiron  40.739673 -73.990947            9.00\n",
       "2  Manhattan           Gramercy  40.737210 -73.981376            9.00\n",
       "3   Brooklyn          Gravesend  40.595260 -73.973471            8.10\n",
       "4   Brooklyn  Manhattan Terrace  40.614433 -73.957438            7.80\n",
       "5   Brooklyn      Ocean Parkway  40.613060 -73.968367            7.80\n",
       "6   Brooklyn     Sheepshead Bay  40.586890 -73.943186            7.04"
      ]
     },
     "execution_count": 38,
     "metadata": {},
     "output_type": "execute_result"
    }
   ],
   "source": [
    "neighb_stats=neighb_stats[['Borough','Neighborhood','Latitude','Longitude','Average Rating']]\n",
    "neighb_stats"
   ]
  },
  {
   "cell_type": "markdown",
   "metadata": {},
   "source": [
    "### Map preps"
   ]
  },
  {
   "cell_type": "code",
   "execution_count": 39,
   "metadata": {},
   "outputs": [],
   "source": [
    "# create map and display it\n",
    "ny_map = folium.Map(location=geo_location('New York'), zoom_start=12)"
   ]
  },
  {
   "cell_type": "code",
   "execution_count": 44,
   "metadata": {},
   "outputs": [],
   "source": [
    "# instantiate a feature group for the incidents in the dataframe\n",
    "incidents = folium.map.FeatureGroup()\n",
    "\n",
    "# loop through the 100 crimes and add each to the incidents feature group\n",
    "for lat, lng, in neighb_stats[['Latitude','Longitude']].values:\n",
    "    incidents.add_child(\n",
    "        folium.CircleMarker(\n",
    "            [lat, lng],\n",
    "            radius=10, # define how big you want the circle markers to be\n",
    "            color='yellow',\n",
    "            fill=True,\n",
    "            fill_color='green',\n",
    "            fill_opacity=0.6\n",
    "        )\n",
    "    )\n",
    "\n"
   ]
  },
  {
   "cell_type": "code",
   "execution_count": 45,
   "metadata": {},
   "outputs": [],
   "source": [
    "neighb_stats['Label']=neighb_stats['Neighborhood']+', '+neighb_stats['Borough']+'('+neighb_stats['Average Rating'].map(str)+')'\n"
   ]
  },
  {
   "cell_type": "code",
   "execution_count": 46,
   "metadata": {
    "scrolled": true
   },
   "outputs": [
    {
     "data": {
      "text/html": [
       "<div style=\"width:100%;\"><div style=\"position:relative;width:100%;height:0;padding-bottom:60%;\"><iframe src=\"about:blank\" style=\"position:absolute;width:100%;height:100%;left:0;top:0;border:none !important;\" data-html=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 onload=\"this.contentDocument.open();this.contentDocument.write(atob(this.getAttribute('data-html')));this.contentDocument.close();\" allowfullscreen webkitallowfullscreen mozallowfullscreen></iframe></div></div>"
      ],
      "text/plain": [
       "<folium.folium.Map at 0x7fc492719b70>"
      ]
     },
     "execution_count": 46,
     "metadata": {},
     "output_type": "execute_result"
    }
   ],
   "source": [
    "\n",
    "# add pop-up text to each marker on the map\n",
    "for lat, lng, label in neighb_stats[['Latitude','Longitude','Label']].values:\n",
    "    folium.Marker([lat, lng], popup=label).add_to(ny_map)        \n",
    "# add incidents to map\n",
    "ny_map.add_child(incidents)\n",
    "\n"
   ]
  },
  {
   "cell_type": "code",
   "execution_count": null,
   "metadata": {},
   "outputs": [],
   "source": []
  }
 ],
 "metadata": {
  "kernelspec": {
   "display_name": "Python 3",
   "language": "python",
   "name": "python3"
  },
  "language_info": {
   "codemirror_mode": {
    "name": "ipython",
    "version": 3
   },
   "file_extension": ".py",
   "mimetype": "text/x-python",
   "name": "python",
   "nbconvert_exporter": "python",
   "pygments_lexer": "ipython3",
   "version": "3.7.4"
  }
 },
 "nbformat": 4,
 "nbformat_minor": 4
}
